{
 "cells": [
  {
   "cell_type": "code",
   "execution_count": 16,
   "metadata": {},
   "outputs": [
    {
     "name": "stdout",
     "output_type": "stream",
     "text": [
      "donezo\n"
     ]
    }
   ],
   "source": [
    "\"\"\"#########################\n",
    "\n",
    "#Happy Birthday App\n",
    "\n",
    "#url to scrape:\n",
    "#https://www.baseball-reference.com/friv/birthdays.cgi?month=12&day=12\n",
    "\n",
    "#########################\"\"\"\n",
    "\n",
    "#############Begin import section####################\n",
    "\n",
    "import bs4\n",
    "from urllib.request import urlopen as uReq\n",
    "from bs4 import BeautifulSoup as soup\n",
    "\n",
    "#TODO: determine if day / month will be retrieved as a string or integer, and change url variable declaration accordingly\n",
    "#TODO: Interface for selecting a day and month\n",
    "#TODO: Retrieve current day and month from datetime\n",
    "\n",
    "#variables month and day set to arbitrary values, eventually should be selectable\n",
    "month = 12;\n",
    "day = 12;\n",
    "\n",
    "#url to scrape set as variable with string variables inserted into dates in string\n",
    "#TODO: remove str() if day/month will be strings\n",
    "url = ('https://www.baseball-reference.com/friv/birthdays.cgi?month=' + str(month) + '&day=' + str(day))\n",
    "\n",
    "#returns page html as an OBJECT via request, assigns to variable\n",
    "uClient = uReq(url)\n",
    "\n",
    "#calls urlopen .read method to turn object into bytes\n",
    "raw_html = uClient.read()\n",
    "\n",
    "#demonstrates data type change \n",
    "#print(type(uClient))\n",
    "#print(type(raw_html))\n",
    "\n",
    "#closes connection of web client\n",
    "uClient.close()\n",
    "\n",
    "\n",
    "############Begin Soup Parsing Section################\n",
    "\n",
    "soup_page = soup(raw_html, \"html.parser\")\n",
    "\n",
    "\n",
    "a = soup_page.findAll(\"div\", {\"id\":\"div_birthday_stats\"})\n",
    "print(a)\n",
    "\n",
    "\n",
    "\n",
    "\n",
    "\n",
    "\n",
    "\n",
    "\n",
    "\n",
    "\n",
    "print('donezo')"
   ]
  },
  {
   "cell_type": "code",
   "execution_count": 2,
   "metadata": {},
   "outputs": [
    {
     "name": "stdout",
     "output_type": "stream",
     "text": [
      "Brad Halsey\n"
     ]
    }
   ],
   "source": [
    "#https://repl.it/repls/FavorableHotRingtailedlemur\n",
    "#regex to return text between > and M character\n",
    "import re\n",
    "def finder(link):\n",
    "    m = re.match(r'(^.*>)(.*?)(<.*$)', link)\n",
    "    return(m.group(2))\n",
    "print(finder('<a href=\"/players/h/halsebr01.shtml\">Brad Halsey<>'))"
   ]
  }
 ],
 "metadata": {
  "kernelspec": {
   "display_name": "Python 3",
   "language": "python",
   "name": "python3"
  },
  "language_info": {
   "codemirror_mode": {
    "name": "ipython",
    "version": 3
   },
   "file_extension": ".py",
   "mimetype": "text/x-python",
   "name": "python",
   "nbconvert_exporter": "python",
   "pygments_lexer": "ipython3",
   "version": "3.6.2"
  }
 },
 "nbformat": 4,
 "nbformat_minor": 2
}
