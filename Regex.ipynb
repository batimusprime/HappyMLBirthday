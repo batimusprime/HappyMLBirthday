{
 "cells": [
  {
   "cell_type": "markdown",
   "metadata": {},
   "source": [
    "Identifiers:\n",
    "\n",
    "\\ - escape character\n",
    "\\d - any number\n",
    "\\D - anything but a number\n",
    "\\s - space\n",
    "\\S - anything but a space\n",
    "\\w - any character\n",
    "\\W - anything but a character\n",
    ". = any character, except for a newline\n",
    "\\b = whitespace around words\n",
    "\\. a period"
   ]
  },
  {
   "cell_type": "markdown",
   "metadata": {},
   "source": [
    "Modifiers:\n",
    "\n",
    "{1,3} - we're expecting 1-3\n",
    "+ - match 1 or more\n",
    "? - match 0 or 1\n",
    "* - match 0 or more\n",
    "$ - match the end of a string\n",
    "^ - match the beginning of a string\n",
    "| - match either or\n",
    "[] - range or 'variance'\n",
    "{x} - expecting 'x' amount\n",
    "\n",
    "\n",
    "Whitespace Characters:\n",
    "\n",
    "\\n - new line\n",
    "\\s - space\n",
    "\\t - tab\n",
    "\\e - escape\n",
    "\\f - form feed\n",
    "\\r - return\n",
    "\n",
    "Meta Characters:\n",
    "\n",
    "Must be escaped\n",
    ". + * ? [] $ ^ () {} | \\ \n",
    "\n",
    "Range:\n",
    "[A-Z] - search for A - Z\n",
    "[A-Za-z] - search for A - Z and a - z"
   ]
  }
 ],
 "metadata": {
  "kernelspec": {
   "display_name": "Python 3",
   "language": "python",
   "name": "python3"
  },
  "language_info": {
   "codemirror_mode": {
    "name": "ipython",
    "version": 3
   },
   "file_extension": ".py",
   "mimetype": "text/x-python",
   "name": "python",
   "nbconvert_exporter": "python",
   "pygments_lexer": "ipython3",
   "version": "3.6.2"
  }
 },
 "nbformat": 4,
 "nbformat_minor": 2
}
