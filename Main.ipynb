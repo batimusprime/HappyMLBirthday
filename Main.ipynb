{
 "cells": [
  {
   "cell_type": "code",
   "execution_count": 1,
   "metadata": {},
   "outputs": [
    {
     "name": "stdout",
     "output_type": "stream",
     "text": [
      "Jose Osuna\n"
     ]
    },
    {
     "ename": "AttributeError",
     "evalue": "'NoneType' object has no attribute 'string'",
     "output_type": "error",
     "traceback": [
      "\u001b[1;31m---------------------------------------------------------------------------\u001b[0m",
      "\u001b[1;31mAttributeError\u001b[0m                            Traceback (most recent call last)",
      "\u001b[1;32m<ipython-input-1-c363f26f4e34>\u001b[0m in \u001b[0;36m<module>\u001b[1;34m()\u001b[0m\n\u001b[0;32m     46\u001b[0m \u001b[1;33m\u001b[0m\u001b[0m\n\u001b[0;32m     47\u001b[0m \u001b[1;32mfor\u001b[0m \u001b[0mbag\u001b[0m \u001b[1;32min\u001b[0m \u001b[0mtag\u001b[0m\u001b[1;33m:\u001b[0m\u001b[1;33m\u001b[0m\u001b[0m\n\u001b[1;32m---> 48\u001b[1;33m     \u001b[0mprint\u001b[0m\u001b[1;33m(\u001b[0m\u001b[0mbag\u001b[0m\u001b[1;33m.\u001b[0m\u001b[0ma\u001b[0m\u001b[1;33m.\u001b[0m\u001b[0mstring\u001b[0m\u001b[1;33m)\u001b[0m\u001b[1;33m\u001b[0m\u001b[0m\n\u001b[0m\u001b[0;32m     49\u001b[0m \u001b[1;33m\u001b[0m\u001b[0m\n\u001b[0;32m     50\u001b[0m \u001b[1;33m\u001b[0m\u001b[0m\n",
      "\u001b[1;31mAttributeError\u001b[0m: 'NoneType' object has no attribute 'string'"
     ]
    }
   ],
   "source": [
    "\"\"\"#########################\n",
    "\n",
    "#Happy Birthday App\n",
    "\n",
    "#url to scrape:\n",
    "#https://www.baseball-reference.com/friv/birthdays.cgi?month=12&day=12\n",
    "\n",
    "#########################\"\"\"\n",
    "\n",
    "#############Begin import section####################\n",
    "\n",
    "import bs4\n",
    "from urllib.request import urlopen as uReq\n",
    "from bs4 import BeautifulSoup\n",
    "\n",
    "\n",
    "\n",
    "#variables month and day set to arbitrary values, eventually should be selectable\n",
    "\n",
    "\n",
    "#url to scrape set as variable with string variables inserted into dates in string\n",
    "#TODO: remove str() if day/month will be strings\n",
    "url = ('https://www.baseball-reference.com/friv/birthdays.cgi?month=' + str(month) + '&day=' + str(day))\n",
    "\n",
    "#returns page html as an OBJECT via request, assigns to variable\n",
    "uClient = uReq(url)\n",
    "\n",
    "#calls urlopen .read method to turn object into bytes\n",
    "raw_html = uClient.read()\n",
    "\n",
    "#demonstrates data type change \n",
    "#print(type(uClient))\n",
    "#print(type(raw_html))\n",
    "\n",
    "#closes connection of web client\n",
    "uClient.close()\n",
    "\n",
    "\n",
    "############Begin Soup Parsing Section################\n",
    "\n",
    "soup = BeautifulSoup(raw_html, \"html.parser\")\n",
    "tag = soup.findAll('td',class_='left')\n",
    "\n",
    "for bag in tag:\n",
    "    print(bag.a.string)\n",
    "    \n",
    "\n",
    "\n",
    "\n",
    "\n",
    "\n",
    "\n",
    "\n",
    "print('donezo')"
   ]
  },
  {
   "cell_type": "code",
   "execution_count": 4,
   "metadata": {},
   "outputs": [
    {
     "name": "stdout",
     "output_type": "stream",
     "text": [
      "Derek Norris\n"
     ]
    }
   ],
   "source": [
    "#https://repl.it/repls/FavorableHotRingtailedlemur\n",
    "#regex to return text between > and M character\n",
    "import re\n",
    "def finder(link):\n",
    "    m = re.match(r'(^.*>)(.*?)(<.*$)', link)\n",
    "    return(m.group(2))\n",
    "print(finder('<a href=\\\"/players/n/norride01.shtml\\\">Derek Norris</a>'))"
   ]
  },
  {
   "cell_type": "code",
   "execution_count": null,
   "metadata": {},
   "outputs": [],
   "source": [
    "#https://www.youtube.com/watch?v=XQgXKtPSzUI\n",
    "#https://www.crummy.com/software/BeautifulSoup/bs4/doc/"
   ]
  },
  {
   "cell_type": "code",
   "execution_count": 18,
   "metadata": {},
   "outputs": [
    {
     "name": "stdout",
     "output_type": "stream",
     "text": [
      "Players born on February 14 | Baseball-Reference.com\n"
     ]
    },
    {
     "ename": "NameError",
     "evalue": "name 'basestring' is not defined",
     "output_type": "error",
     "traceback": [
      "\u001b[1;31m---------------------------------------------------------------------------\u001b[0m",
      "\u001b[1;31mNameError\u001b[0m                                 Traceback (most recent call last)",
      "\u001b[1;32m<ipython-input-18-3f76af2703c2>\u001b[0m in \u001b[0;36m<module>\u001b[1;34m()\u001b[0m\n\u001b[0;32m     14\u001b[0m \u001b[0mprint\u001b[0m\u001b[1;33m(\u001b[0m\u001b[0msoup\u001b[0m\u001b[1;33m.\u001b[0m\u001b[0mtitle\u001b[0m\u001b[1;33m.\u001b[0m\u001b[0mtext\u001b[0m\u001b[1;33m)\u001b[0m\u001b[1;33m\u001b[0m\u001b[0m\n\u001b[0;32m     15\u001b[0m \u001b[0msd\u001b[0m \u001b[1;33m=\u001b[0m \u001b[0msoup\u001b[0m\u001b[1;33m.\u001b[0m\u001b[0mfind_all\u001b[0m\u001b[1;33m(\u001b[0m\u001b[1;34m'td'\u001b[0m\u001b[1;33m,\u001b[0m \u001b[0mclass_\u001b[0m\u001b[1;33m=\u001b[0m\u001b[1;34m'left'\u001b[0m\u001b[1;33m)\u001b[0m\u001b[1;33m\u001b[0m\u001b[0m\n\u001b[1;32m---> 16\u001b[1;33m \u001b[0misinstance\u001b[0m\u001b[1;33m(\u001b[0m\u001b[0msd\u001b[0m\u001b[1;33m,\u001b[0m \u001b[0mbasestring\u001b[0m\u001b[1;33m)\u001b[0m\u001b[1;33m\u001b[0m\u001b[0m\n\u001b[0m\u001b[0;32m     17\u001b[0m \u001b[1;32mfor\u001b[0m \u001b[0mdiego\u001b[0m \u001b[1;32min\u001b[0m \u001b[0msd\u001b[0m\u001b[1;33m:\u001b[0m\u001b[1;33m\u001b[0m\u001b[0m\n\u001b[0;32m     18\u001b[0m     \u001b[0mtd\u001b[0m \u001b[1;33m=\u001b[0m \u001b[0mstr\u001b[0m\u001b[1;33m(\u001b[0m\u001b[0mdiego\u001b[0m\u001b[1;33m.\u001b[0m\u001b[0mfind\u001b[0m\u001b[1;33m(\u001b[0m\u001b[1;34m'a'\u001b[0m\u001b[1;33m)\u001b[0m\u001b[1;33m)\u001b[0m\u001b[1;33m\u001b[0m\u001b[0m\n",
      "\u001b[1;31mNameError\u001b[0m: name 'basestring' is not defined"
     ]
    }
   ],
   "source": [
    "\"\"\"\n",
    "# Name: Stephen Batty\n",
    "# Date: 1/30/2018\n",
    "# Project: Baseball Birthday\n",
    "\"\"\"\n",
    "#imports\n",
    "import re\n",
    "import bs4 as bs\n",
    "import urllib.request\n",
    "month = '2'\n",
    "day = '14'\n",
    "url = urllib.request.urlopen('https://www.baseball-reference.com/friv/birthdays.cgi?month=' + month + '&day=' + day).read()\n",
    "soup = bs.BeautifulSoup(url, 'lxml')\n",
    "print(soup.title.text)\n",
    "sd = soup.find_all('td', class_='left')\n",
    "isinstance(sd, basestring)\n",
    "for diego in sd:\n",
    "    td = str(diego.find('a'))\n",
    "    #print(td)\n",
    "\n",
    "def stringify(td):\n",
    "    for t in td:\n",
    "        m = re.match(r'(^.*>)(.*?)(<.*$)', t)\n",
    "        return(m.group(2))\n"
   ]
  },
  {
   "cell_type": "code",
   "execution_count": 60,
   "metadata": {},
   "outputs": [
    {
     "name": "stdout",
     "output_type": "stream",
     "text": [
      "Please enter your birthday month: 12\n",
      "Please enter your birthday day: 2\n",
      "Charlie Tilson\n",
      "Gary Sanchez\n",
      "Brett Eibner\n",
      "Wyatt Toregas\n",
      "Eric Reed\n",
      "Peter Moylan\n",
      "Eddy Garabito\n",
      "Mark Kotsay\n",
      "Steve Sisco\n",
      "Darryl Kile\n",
      "Chip Hale\n",
      "Julio Cruz\n",
      "Adrian Devine\n",
      "Bob Kammeyer\n",
      "Jay Kleven\n",
      "Wayne Simpson\n",
      "Pedro Borbon\n",
      "Harry Taylor\n",
      "Andre Rodgers\n",
      "Glenn Crawford\n",
      "Johnny Welch\n",
      "Leon Williams\n",
      "Don Brennan\n",
      "Ray Morehart\n",
      "Hal Leathers\n",
      "Mike Wilson\n",
      "Gene Bedford\n",
      "Art Jahn\n",
      "Tommy Vereker\n",
      "Chick Smith\n",
      "Howard Armstrong\n",
      "Bob Jones\n",
      "Tom Doran\n",
      "Roscoe Miller\n",
      "Mike Kelley\n",
      "Tom Stouch\n",
      "John Hibbard\n",
      "John Haldeman\n",
      "Deacon White\n"
     ]
    }
   ],
   "source": [
    "\n",
    "month = input(\"Please enter your birthday month: \")\n",
    "#month = '14'\n",
    "#day = '12'\n",
    "day = input(\"Please enter your birthday day: \")\n",
    "\n",
    "url = urllib.request.urlopen('https://www.baseball-reference.com/friv/birthdays.cgi?month=' + str(month) + '&day=' + str(day))\n",
    "soup = bs.BeautifulSoup(url, 'lxml')\n",
    "linkData = soup.findAll(\"td\", {\"class\": \"left\"})\n",
    "\n",
    "#regex = \"r'(^.*>)(.?)(<.*$)'\n",
    "#playersArray = []\n",
    "\n",
    "for link in linkData:\n",
    "    #print(str(link))\n",
    "    lank = str(link)\n",
    "    #print(link.a)\n",
    "    alsotoo = str(link.a)\n",
    "    p = re.findall(r'(^.*>)(.*?)(<.*$)', alsotoo)\n",
    "    for elemeno in p:\n",
    "        print(p[0][1])\n",
    "    "
   ]
  }
 ],
 "metadata": {
  "kernelspec": {
   "display_name": "Python 3",
   "language": "python",
   "name": "python3"
  },
  "language_info": {
   "codemirror_mode": {
    "name": "ipython",
    "version": 3
   },
   "file_extension": ".py",
   "mimetype": "text/x-python",
   "name": "python",
   "nbconvert_exporter": "python",
   "pygments_lexer": "ipython3",
   "version": "3.6.2"
  }
 },
 "nbformat": 4,
 "nbformat_minor": 2
}
